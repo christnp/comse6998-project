{
 "cells": [
  {
   "cell_type": "markdown",
   "metadata": {},
   "source": [
    "# One-Shot Learning Training and Prediction Results\n",
    "\n",
    "reference:\n",
    "https://towardsdatascience.com/building-a-one-shot-learning-network-with-pytorch-d1c3a5fafa4a\n",
    "https://becominghuman.ai/siamese-networks-algorithm-applications-and-pytorch-implementation-4ffa3304c18\n",
    "\n",
    "[3] \"We are interested in the problem of learning and recognition of <u>categories</u> (as opposed to individual objects)\" \n",
    "[3] \"Another aspect that we wish to emphasize is the ability to learn with minimal supervision.\"\n",
    "\n",
    "[3] Li Fei-Fei, R. Fergus and P. Perona, \"One-shot learning of object categories,\" in IEEE Transactions on Pattern Analysis and Machine Intelligence, vol. 28, no. 4, pp. 594-611, April 2006, doi: 10.1109/TPAMI.2006.79."
   ]
  },
  {
   "cell_type": "code",
   "execution_count": 1,
   "metadata": {},
   "outputs": [
    {
     "name": "stdout",
     "output_type": "stream",
     "text": [
      "Python Version:      3.7.8\n",
      "PyTorch Version:     1.7.1+cu101\n",
      "Torchvision Version: 0.8.2+cu101\n",
      "CUDA Version:        10.1\n",
      "\n",
      "***********************************\n",
      "GPU Available:  True\n",
      "Current Device: cuda:0 (Tesla V100-SXM2-16GB)\n",
      "***********************************\n",
      "\n"
     ]
    }
   ],
   "source": [
    "from __future__ import print_function, division\n",
    "\n",
    "import sys\n",
    "import platform\n",
    "import time\n",
    "import os\n",
    "import copy\n",
    "import numpy as np\n",
    "import pandas as pd\n",
    "import matplotlib.pyplot as plt\n",
    "import json\n",
    "from pprint import pprint\n",
    "\n",
    "import torch\n",
    "import torch.nn as nn\n",
    "import torch.optim as optim\n",
    "from torch.optim import lr_scheduler\n",
    "import torch.backends.cudnn as cudnn\n",
    "import torchvision\n",
    "from torchvision import datasets, models, transforms\n",
    "\n",
    "# this is necessary to use the common functions\n",
    "# assumes directory structure was maintained\n",
    "sys.path.insert(0, '../common/')\n",
    "# from common.torch_utils import train_model,get_device\n",
    "# from torch_utils import (train_model, \n",
    "#                          mnist_dataloader, \n",
    "#                          dataset_preview)\n",
    "# from torch_utils import *\n",
    "from oneshot import *\n",
    "\n",
    "\n",
    "# print some versions\n",
    "print(f'Python Version:      {platform.python_version()}')\n",
    "print(f'PyTorch Version:     {torch.__version__}')\n",
    "print(f'Torchvision Version: {torchvision.__version__}')\n",
    "print(f'CUDA Version:        {torch.version.cuda}')\n",
    "\n",
    "# get device (defaults to GPU if available)\n",
    "device = get_device()"
   ]
  },
  {
   "cell_type": "markdown",
   "metadata": {},
   "source": [
    "To keep as consistent as possible with the reference article, let's observe the following excerpt:\n",
    "\n",
    "> Batch Size: Since we are learning how similar are two images, the batch size needs to be pretty big in order for the model to be generalisable especially for a dataset like this with many different categories. Therefore we used a batch size of 128.   \n",
    ">\n",
    "> Learning Rate: We tested with several learning rates from 0.001 to 0.0005, and selected a 0.0006 which provided the best loss decreasing rate.   \n",
    ">\n",
    "> Optimizer and Loss: We adopted the traditional Adam optimizer for this network with the binary cross entropy (BCE) loss with logits.\n",
    "\n",
    "Another excerpt from the article that will drive design decisions:\n",
    "... could be due to the fact that the kernel size of the convolutional layers is fairly small (3x3), which gives a small receptive field. For a problem of computing similarity between two images, it may perhaps be beneficial to look at a “bigger picture” of the two images instead of focusing on small details, and hence a larger receptive field proposed in the original network worked better."
   ]
  },
  {
   "cell_type": "code",
   "execution_count": 10,
   "metadata": {},
   "outputs": [
    {
     "data": {
      "image/png": "[encoded data removed]",
      "text/plain": [
       "<Figure size 864x288 with 8 Axes>"
      ]
     },
     "metadata": {
      "needs_background": "light"
     },
     "output_type": "display_data"
    }
   ],
   "source": [
    "BATCH_SIZE = 32\n",
    "SET_SIZE = 1000\n",
    "\n",
    "data_transforms = {\n",
    "    'train': transforms.Compose([\n",
    "        transforms.ToTensor(),\n",
    "        transforms.Normalize((0.5), (0.5))\n",
    "    ]),\n",
    "    'val': transforms.Compose([\n",
    "        transforms.ToTensor(),\n",
    "        transforms.Normalize((0.5), (0.5))\n",
    "    ]),\n",
    "}\n",
    "\n",
    "data_dir='../../data'\n",
    "train_categories = ['Greek','Tagalog','Latin','']\n",
    "# use helper to create the dataloaders\n",
    "train_set = OmniglotDataset(root=data_dir, set_size=SET_SIZE, \n",
    "                            categories=train_categories,\n",
    "                            train=True, download=True, \n",
    "                            transform=data_transforms['train'])\n",
    "\n",
    "test_categories = ['Mongolian']\n",
    "val_set = OmniglotDataset(root=data_dir, set_size=SET_SIZE, \n",
    "                            categories=test_categories,\n",
    "                            train=False, download=True, \n",
    "                            transform=data_transforms['val'])\n",
    "\n",
    "\n",
    "# make the dataloader\n",
    "dataloaders = {}\n",
    "image_datasets = {'train':train_set, 'val':val_set}\n",
    "for x in image_datasets:\n",
    "    dataloaders[x] = torch.utils.data.DataLoader(image_datasets[x], \n",
    "                                                  batch_size=BATCH_SIZE,\n",
    "                                                  shuffle=True, num_workers=4)\n",
    "# collect the dataset size and class names\n",
    "dataset_sizes = {x: len(image_datasets[x]) for x in image_datasets}\n",
    "class_names = image_datasets['train'].classes\n",
    "\n",
    "# # preview the dataset\n",
    "oneshot_dataset_preview(dataloaders['val'])"
   ]
  },
  {
   "cell_type": "code",
   "execution_count": 13,
   "metadata": {},
   "outputs": [
    {
     "name": "stdout",
     "output_type": "stream",
     "text": [
      "\n",
      "Training One-shot model\n",
      "\n",
      "Epoch 0/49\n",
      "----------\n",
      "Train Loss: 0.6707 Train Acc: 0.7812\n",
      "Val Loss: 0.6704 Val Acc: 0.8438\n",
      "---------|9\n",
      "Epoch 10/49\n",
      "----------\n",
      "Train Loss: 0.5609 Train Acc: 0.7812\n",
      "Val Loss: 0.6315 Val Acc: 0.5312\n",
      "---------|19\n",
      "Epoch 20/49\n",
      "----------\n",
      "Train Loss: 0.5174 Train Acc: 0.625\n",
      "Val Loss: 0.6036 Val Acc: 0.6562\n",
      "---------|29\n",
      "Epoch 30/49\n",
      "----------\n",
      "Train Loss: 0.5102 Train Acc: 0.7812\n",
      "Val Loss: 0.577 Val Acc: 0.6875\n",
      "---------|39\n",
      "Epoch 40/49\n",
      "----------\n",
      "Train Loss: 0.4368 Train Acc: 0.9062\n",
      "Val Loss: 0.615 Val Acc: 0.7812\n",
      "--------|48\n",
      "Epoch 49/49\n",
      "----------\n",
      "Train Loss: 0.4283 Train Acc: 0.8125\n",
      "Val Loss: 0.5987 Val Acc: 0.75\n",
      "Finished Training\n",
      "Training complete in 2.0m 11.687387228012085s\n",
      "Best val Acc: 0.9062\n",
      "> Saved results to 'oneshot_results_2020-12-15T040653.csv'.\n"
     ]
    }
   ],
   "source": [
    "# Use Torchvision Resnet18 for base model since our \n",
    "# dataset is small and only has 10 classes this should\n",
    "# be well suited. DO NOT PRETRAIN FOR BASE MODEL.\n",
    "model = VGGSiameseNet()\n",
    "\n",
    "# \n",
    "output_dir='output'\n",
    "num_epochs = 50\n",
    "#     == We must changet the last fully connected layer to match 10 classes\n",
    "# keep features unchanged\n",
    "\n",
    "# move model to the GPU\n",
    "cudnn.benchmark = True\n",
    "\n",
    "# use helper function to train the model (outputs model and Pandas DF)\n",
    "print(f'\\nTraining One-shot model')\n",
    "model, results_df,_ = train_oneshot(device, model, dataloaders, \n",
    "                                       dataset_sizes, output_dir=output_dir, \n",
    "                                       num_epochs=num_epochs)\n",
    "\n",
    "# save the data for others to use\n",
    " # <-- train_model should have created this dir\n",
    "results_file = f'oneshot_results_{time.strftime(\"%Y-%m-%dT%H%M%S\")}.csv'\n",
    "results_df.to_csv(os.path.join(output_dir,results_file),\n",
    "                  columns=results_df.columns)\n",
    "print(f'> Saved results to \\'{results_file}\\'.')"
   ]
  },
  {
   "cell_type": "code",
   "execution_count": 14,
   "metadata": {},
   "outputs": [
    {
     "name": "stdout",
     "output_type": "stream",
     "text": [
      "Index(['device', 'epoch', 'average_training_loss', 'average_validation_loss',\n",
      "       'training_acc', 'validaton_acc', 'training_time', 'validation_time'],\n",
      "      dtype='object')\n"
     ]
    },
    {
     "data": {
      "text/plain": [
       "<AxesSubplot:xlabel='epoch'>"
      ]
     },
     "execution_count": 14,
     "metadata": {},
     "output_type": "execute_result"
    },
    {
     "data": {
      "image/png": "[encoded data removed]",
      "text/plain": [
       "<Figure size 432x288 with 1 Axes>"
      ]
     },
     "metadata": {
      "needs_background": "light"
     },
     "output_type": "display_data"
    }
   ],
   "source": [
    "print(results_df.columns)\n",
    "results_df.plot(x='epoch', y=['average_training_loss','average_validation_loss'], style='-')"
   ]
  },
  {
   "cell_type": "code",
   "execution_count": null,
   "metadata": {},
   "outputs": [],
   "source": []
  },
  {
   "cell_type": "markdown",
   "metadata": {},
   "source": [
    "https://towardsdatascience.com/building-a-one-shot-learning-network-with-pytorch-d1c3a5fafa4a#bc   \n",
    "\n",
    "In a Siamese network, a single number is output from the model. This number represents how similar the two inputs are, where a larger number implies that the two images are more similar.\n",
    "\n",
    "In other words, if the current iteration is an odd number, we retrieve a pair of images from the same character, and vice versa. This ensures that our training dataset is balanced for both types of outputs."
   ]
  },
  {
   "cell_type": "markdown",
   "metadata": {},
   "source": [
    "## Validation\n",
    "Refer to this to get accuracy:   \n",
    "https://towardsdatascience.com/one-shot-learning-with-siamese-networks-using-keras-17f34e75bb3d   \n",
    "\n",
    "__Possible Hyperparams:__   \n",
    "optimizer = Adam(lr = 0.00006)   \n",
    "model.compile(loss=\"binary_crossentropy\",optimizer=optimizer)"
   ]
  },
  {
   "cell_type": "code",
   "execution_count": null,
   "metadata": {},
   "outputs": [],
   "source": []
  }
 ],
 "metadata": {
  "environment": {
   "name": "common-cu101.m59",
   "type": "gcloud",
   "uri": "gcr.io/deeplearning-platform-release/base-cu101:m59"
  },
  "kernelspec": {
   "display_name": "Python 3",
   "language": "python",
   "name": "python3"
  },
  "language_info": {
   "codemirror_mode": {
    "name": "ipython",
    "version": 3
   },
   "file_extension": ".py",
   "mimetype": "text/x-python",
   "name": "python",
   "nbconvert_exporter": "python",
   "pygments_lexer": "ipython3",
   "version": "3.7.8"
  }
 },
 "nbformat": 4,
 "nbformat_minor": 4
}
