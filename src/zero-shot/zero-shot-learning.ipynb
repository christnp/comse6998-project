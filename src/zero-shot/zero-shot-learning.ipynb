{
 "cells": [
  {
   "cell_type": "markdown",
   "metadata": {},
   "source": [
    "# Zero-Shot Learning (ZSL) Training and Prediction Results"
   ]
  },
  {
   "cell_type": "code",
   "execution_count": 2,
   "metadata": {},
   "outputs": [
    {
     "name": "stdout",
     "output_type": "stream",
     "text": [
      "Python Version:      3.7.8\n",
      "PyTorch Version:     1.7.1+cu101\n",
      "Torchvision Version: 0.8.2+cu101\n",
      "CUDA Version:        10.1\n",
      "\n",
      "***********************************\n",
      "GPU Available:  True\n",
      "Current Device: cuda:0 (Tesla V100-SXM2-16GB)\n",
      "***********************************\n",
      "\n"
     ]
    }
   ],
   "source": [
    "from __future__ import print_function, division\n",
    "\n",
    "import sys\n",
    "import platform\n",
    "import time\n",
    "import os\n",
    "import copy\n",
    "import numpy as np\n",
    "import pandas as pd\n",
    "import matplotlib.pyplot as plt\n",
    "import json\n",
    "from pprint import pprint\n",
    "\n",
    "import torch\n",
    "import torch.nn as nn\n",
    "import torch.optim as optim\n",
    "from torch.optim import lr_scheduler\n",
    "import torch.backends.cudnn as cudnn\n",
    "import torchvision\n",
    "from torchvision import datasets, models, transforms\n",
    "\n",
    "# this is necessary to use the common functions\n",
    "# assumes directory structure was maintained\n",
    "sys.path.insert(0, '../common/')\n",
    "# from common.torch_utils import train_model,get_device\n",
    "# from torch_utils import (train_model, \n",
    "#                          mnist_dataloader, \n",
    "#                          dataset_preview)\n",
    "from torch_utils import *\n",
    "\n",
    "# print some versions\n",
    "print(f'Python Version:      {platform.python_version()}')\n",
    "print(f'PyTorch Version:     {torch.__version__}')\n",
    "print(f'Torchvision Version: {torchvision.__version__}')\n",
    "print(f'CUDA Version:        {torch.version.cuda}')\n",
    "\n",
    "# get device (defaults to GPU if available)\n",
    "device = get_device()"
   ]
  },
  {
   "cell_type": "markdown",
   "metadata": {},
   "source": [
    "## Data Preprocessing\n",
    "We need to collect the MNIST data and create the dataloaders for PyTorch. To make a clean notebook, we have created a helper function to do most of the work (refer to `/src/common/torch_utils.py`). For training we will use a batch_size of 32 images, similar to the base model. To demonstrate the capabilities of ZSL on limited datasets, we must take a two step approach:\n",
    "1. Training ZSL using the same baseline process (i.e., on the entire MNIST dataset)\n",
    "2. Training ZSL using a small subset of the MNIST dataset (we will try a few sizes)\n",
    "\n",
    "We can then we will have a matrix of comparisons:  \n",
    "\n",
    "||||\n",
    "|-|-|-|\n",
    "||ZSL+|Baseline+|\n",
    "|ZSL-|||\n",
    "|Baseline-|||"
   ]
  },
  {
   "cell_type": "markdown",
   "metadata": {},
   "source": [
    "Before we dive into the MNIST dataset, let's experiment using the data from [1].\n",
    "\n",
    "$$\n",
    "@inproceedings{li2019rethinking,\n",
    "  title={Rethinking Zero-Shot Learning: A Conditional Visual Classification Perspective},\n",
    "  author={Li, Kai and Min, Martin Renqiang and Fu, Yun},\n",
    "  booktitle={Proceedings of the IEEE International Conference on Computer Vision},\n",
    "  pages={3583--3592},\n",
    "  year={2019}\n",
    "}\n"
   ]
  },
  {
   "cell_type": "code",
   "execution_count": 2,
   "metadata": {},
   "outputs": [
    {
     "name": "stdout",
     "output_type": "stream",
     "text": [
      "Nothing to unzip, '../../data/zsl-example/data.zip' does not exist!\n"
     ]
    }
   ],
   "source": [
    "# get the example data\n",
    "zsl_data_dir = '../../data/zsl-example'\n",
    "zsl_example_data = 'http://www.robots.ox.ac.uk/~lz/DEM_cvpr2017/data.zip'\n",
    "if not os.path.isdir(zsl_data_dir):\n",
    "    os.mkdir(zsl_data_dir)\n",
    "# download data and clone project\n",
    "# ! wget $zsl_example_data -P $zsl_data_dir \n",
    "# ! git clone https://github.com/kailigo/cvcZSL.git\n",
    "\n",
    "zsl_data_zip = os.path.join(zsl_data_dir,os.path.basename(zsl_example_data))\n",
    "if os.path.isfile(zsl_data_zip):\n",
    "    import zipfile\n",
    "    with zipfile.ZipFile(zsl_data_zip,\"r\") as zip_ref:\n",
    "        zip_ref.extractall(zsl_data_dir)\n",
    "    # cleanup, we don't need the zip now\n",
    "\n",
    "    os.remove(zsl_data_zip)\n",
    "    if not os.path.isfile(zsl_data_zip):\n",
    "        print('Clean-up complete!')\n",
    "else:\n",
    "    print(f'Nothing to unzip, \\'{zsl_data_zip}\\' does not exist!')\n",
    "\n",
    "\n",
    "\n",
    "tmp = os.path.splitext(os.path.basename(zsl_example_data))[0]\n",
    "zsl_data_dir = os.path.join(zsl_data_dir,tmp)\n",
    "if not os.path.isdir(zsl_data_dir):\n",
    "    print('ERROR: ZSL example data dir does not exist, \\'{zsl_data_dir}\\'')"
   ]
  },
  {
   "cell_type": "code",
   "execution_count": 4,
   "metadata": {},
   "outputs": [
    {
     "name": "stdout",
     "output_type": "stream",
     "text": [
      "Namespace(dataset='../../data/zsl-example/data/AwA1_data', gamma=0.5, hidden_dim=1600, log_file='logs/eps_lr5_opt4_ss500_w16_s4', log_to_file=True, lr=1e-05, model_file='models/lr5_opt4_ss500_w16_s4.pt', nthreads=8, num_epochs=10, opt_decay=0.0001, shots=4, step_size=500, ways=16, weight_model='weightnet')\n",
      "/opt/conda/lib/python3.7/site-packages/torch/optim/lr_scheduler.py:136: UserWarning: Detected call of `lr_scheduler.step()` before `optimizer.step()`. In PyTorch 1.1.0 and later, you should call them in the opposite order: `optimizer.step()` before `lr_scheduler.step()`.  Failure to do this will result in PyTorch skipping the first value of the learning rate schedule. See more details at https://pytorch.org/docs/stable/optim.html#how-to-adjust-learning-rate\n",
      "  \"https://pytorch.org/docs/stable/optim.html#how-to-adjust-learning-rate\", UserWarning)\n",
      "cvcZSL/train.py:84: UserWarning: This overload of baddbmm is deprecated:\n",
      "\tbaddbmm(Number beta, Tensor input, Number alpha, Tensor batch1, Tensor batch2, *, Tensor out)\n",
      "Consider using one of the following signatures instead:\n",
      "\tbaddbmm(Tensor input, Tensor batch1, Tensor batch2, *, Number beta, Number alpha, Tensor out) (Triggered internally at  /pytorch/torch/csrc/utils/python_arg_parser.cpp:882.)\n",
      "  cls_scores = scale_cls * torch.baddbmm(1.0, bias.view(1, 1, 1), 1.0, features, cls_weights.transpose(1,2))\n",
      "ep: 0,  lr: 0.000010, loss: 1.2317,  zsl: 0.5378, gzsl: seen=0.8436, unseen=0.0373, h=0.0714\n",
      "ep: 1,  lr: 0.000010, loss: 0.8633,  zsl: 0.5535, gzsl: seen=0.8517, unseen=0.0373, h=0.0716\n",
      "ep: 2,  lr: 0.000010, loss: 0.8494,  zsl: 0.5631, gzsl: seen=0.8529, unseen=0.0507, h=0.0957\n",
      "ep: 3,  lr: 0.000010, loss: 0.8463,  zsl: 0.5722, gzsl: seen=0.8524, unseen=0.0520, h=0.0980\n",
      "ep: 4,  lr: 0.000010, loss: 0.8342,  zsl: 0.5739, gzsl: seen=0.8506, unseen=0.0725, h=0.1336\n",
      "ep: 5,  lr: 0.000010, loss: 0.8301,  zsl: 0.5758, gzsl: seen=0.8498, unseen=0.0773, h=0.1417\n",
      "ep: 6,  lr: 0.000010, loss: 0.8169,  zsl: 0.5794, gzsl: seen=0.8536, unseen=0.0802, h=0.1467\n",
      "ep: 7,  lr: 0.000010, loss: 0.8116,  zsl: 0.5896, gzsl: seen=0.8528, unseen=0.0818, h=0.1494\n",
      "ep: 8,  lr: 0.000010, loss: 0.8039,  zsl: 0.5938, gzsl: seen=0.8529, unseen=0.0944, h=0.1699\n",
      "ep: 9,  lr: 0.000010, loss: 0.7971,  zsl: 0.5939, gzsl: seen=0.8560, unseen=0.0937, h=0.1690\n",
      "best_ep: 8, zsl: 0.5938, gzsl: seen=0.8529, unseen=0.0944, h=0.1699\n",
      "zsl: 0.5938, gzsl: seen=0.8529, unseen=0.0944, h=0.1699\n"
     ]
    }
   ],
   "source": [
    "AwA1_data = os.path.join(zsl_data_dir,'AwA1_data')\n",
    "model_dir = 'models'\n",
    "log_dir = 'logs'\n",
    "if not os.path.isdir(model_dir): os.mkdir(model_dir)\n",
    "if not os.path.isdir(log_dir): os.mkdir(log_dir)\n",
    "\n",
    "# run the example training script\n",
    "! python cvcZSL/train.py --dataset $AwA1_data --ways 16 --shots 4 --lr 1e-5 \\\n",
    "--opt_decay 1e-4 --step_size 500 --num_epochs 10 \\\n",
    "--log_file $log_dir/eps_lr5_opt4_ss500_w16_s4 \\\n",
    "--model_file $model_dir/lr5_opt4_ss500_w16_s4.pt"
   ]
  },
  {
   "cell_type": "code",
   "execution_count": 13,
   "metadata": {},
   "outputs": [
    {
     "name": "stdout",
     "output_type": "stream",
     "text": [
      "../../data/zsl-example/data/AwA1_data\n",
      "Namespace(dataset='../../data/zsl-example/data/AwA1_data', gamma=0.5, hidden_dim=1600, log_file='temp.log', log_to_file=True, lr=1e-05, model_file='models/lr5_opt4_ss500_w16_s4.pt', nthreads=8, num_epochs=1000, opt_decay=0.001, shots=4, step_size=200, ways=32, weight_model='weightnet')\n",
      "Traceback (most recent call last):\n",
      "  File \"cvcZSL/test.py\", line 160, in <module>\n",
      "    model = torch.load(model_file_name)\n",
      "  File \"/opt/conda/lib/python3.7/site-packages/torch/serialization.py\", line 581, in load\n",
      "    with _open_file_like(f, 'rb') as opened_file:\n",
      "  File \"/opt/conda/lib/python3.7/site-packages/torch/serialization.py\", line 230, in _open_file_like\n",
      "    return _open_file(name_or_buffer, mode)\n",
      "  File \"/opt/conda/lib/python3.7/site-packages/torch/serialization.py\", line 211, in __init__\n",
      "    super(_open_file, self).__init__(open(name, mode))\n",
      "FileNotFoundError: [Errno 2] No such file or directory: '../../data/zsl-example/data/AwA1_data/models/lr5_opt4_ss500_w16_s4.pt'\n"
     ]
    }
   ],
   "source": [
    "print(AwA1_data)\n",
    "! python cvcZSL/test.py --dataset $AwA1_data --model_file models/lr5_opt4_ss500_w16_s4.pt"
   ]
  },
  {
   "cell_type": "markdown",
   "metadata": {},
   "source": [
    "# Code Testing\n",
    "## This is just to test the limited dataset creation\n",
    "Let's now create a limited dataset for ZSL that we can use for training. Recall that for ZSL we are interested in splitting off a couple of classes. "
   ]
  },
  {
   "cell_type": "code",
   "execution_count": 3,
   "metadata": {},
   "outputs": [
    {
     "name": "stdout",
     "output_type": "stream",
     "text": [
      "Data will be located in '../../data'\n",
      "Dataset sizes: {'train': 6500, 'val': 1073, 'pred': 11}\n",
      "Class names: ['0 - zero', '1 - one', '2 - two', '3 - three', '4 - four', '5 - five', '6 - six', '7 - seven', '8 - eight', '9 - nine']\n"
     ]
    },
    {
     "data": {
      "image/png": "[encoded data removed]",
      "text/plain": [
       "<Figure size 720x288 with 4 Axes>"
      ]
     },
     "metadata": {
      "needs_background": "light"
     },
     "output_type": "display_data"
    }
   ],
   "source": [
    "BATCH_SIZE = 32\n",
    "data_transforms = {\n",
    "    'train': transforms.Compose([\n",
    "        transforms.ToTensor(),\n",
    "        transforms.Normalize((0.5), (0.5))\n",
    "    ]),\n",
    "    'val': transforms.Compose([\n",
    "        transforms.ToTensor(),\n",
    "        transforms.Normalize((0.5), (0.5))\n",
    "    ]),\n",
    "}\n",
    "\n",
    "# use helper to create the dataloaders\n",
    "tmp = mnist_dataloader(data_transforms,\n",
    "                           batch_size=BATCH_SIZE,\n",
    "                           pred_size=0.01,\n",
    "                           sample_size=6500)\n",
    "dataloaders, dataset_sizes, class_names = tmp \n",
    "print(f\"Dataset sizes: {dataset_sizes}\")\n",
    "print(f\"Class names: {class_names}\")\n",
    "\n",
    "# preview the dataset\n",
    "dataset_preview(dataloaders['val'])"
   ]
  },
  {
   "cell_type": "code",
   "execution_count": 20,
   "metadata": {},
   "outputs": [
    {
     "name": "stdout",
     "output_type": "stream",
     "text": [
      "\n",
      "Training baseline model 'resnet18'...\n",
      "\n",
      "Epoch 0/4\n",
      "----------\n",
      "train Loss: 4.564 Acc: 0.312\n",
      "val Loss: 31.7464 Acc: 0.1515\n",
      "\n",
      "Epoch 1/4\n",
      "----------\n",
      "train Loss: 2.0088 Acc: 0.53\n",
      "val Loss: 2.0453 Acc: 0.5576\n",
      "\n",
      "Epoch 2/4\n",
      "----------\n",
      "train Loss: 3.5946 Acc: 0.459\n",
      "val Loss: 1.7764 Acc: 0.4182\n",
      "\n",
      "Epoch 3/4\n",
      "----------\n",
      "train Loss: 1.304 Acc: 0.602\n",
      "val Loss: 0.8335 Acc: 0.6606\n",
      "\n",
      "Epoch 4/4\n",
      "----------\n",
      "train Loss: 0.9008 Acc: 0.72\n",
      "val Loss: 0.609 Acc: 0.8061\n",
      "Training complete in 0.0m 4.3705456256866455s\n",
      "Best val Acc: 0.8061\n",
      "> Saved results to 'resnet18_results_2020-12-14T082336.csv'.\n"
     ]
    }
   ],
   "source": [
    "model = models.resnet18(pretrained=False)\n",
    "model_name = 'resnet18'\n",
    "\n",
    "output_dir='output'\n",
    "num_epochs = 5\n",
    "# prepare the pre-trained model: \n",
    "#   Note the following considerations given our dataset for ResNet\n",
    "#     -> MNIST data are 1-channel (grascale) of size and has 10 output classes\n",
    "#     -> ResNet model expects 3-channel (RGB) images of size 224x224 as input \n",
    "#        and has 1000 output classes\n",
    "#     == We must changet the last fully connected layer to match 10 classes\n",
    "# keep features unchanged\n",
    "num_features = model.fc.in_features\n",
    "# change the output layer to match number of new classes\n",
    "num_classes = 10\n",
    "model.fc = nn.Linear(num_features, num_classes)\n",
    "# change the first conv layer for single channel images\n",
    "model.conv1 = torch.nn.Conv1d(1, 64, (7, 7), (2, 2), (3, 3), bias=False)\n",
    "# ref: https://discuss.pytorch.org/t/altering-resnet18-for-single-channel-images/29198/10\n",
    "\n",
    "# move model to the GPU\n",
    "cudnn.benchmark = True\n",
    "\n",
    "# use helper function to train the model (outputs model and Pandas DF)\n",
    "print(f'\\nTraining baseline model \\'{model_name}\\'...')\n",
    "model, results_df,_ = train_model(device, model, dataloaders, \n",
    "                                       dataset_sizes, output_dir=output_dir, \n",
    "                                       num_epochs=num_epochs)\n",
    "\n",
    "# save the data for others to use\n",
    " # <-- train_model should have created this dir\n",
    "results_file = f'{model_name}_results_{time.strftime(\"%Y-%m-%dT%H%M%S\")}.csv'\n",
    "results_df.to_csv(os.path.join(output_dir,results_file),\n",
    "                  columns=results_df.columns)\n",
    "print(f'> Saved results to \\'{results_file}\\'.')"
   ]
  },
  {
   "cell_type": "code",
   "execution_count": 19,
   "metadata": {},
   "outputs": [
    {
     "data": {
      "text/plain": [
       "[]"
      ]
     },
     "execution_count": 19,
     "metadata": {},
     "output_type": "execute_result"
    },
    {
     "data": {
      "image/png": "[encoded data removed]",
      "text/plain": [
       "<Figure size 864x1728 with 2 Axes>"
      ]
     },
     "metadata": {},
     "output_type": "display_data"
    }
   ],
   "source": [
    "# Evaluate the model using the prediction set held-off\n",
    "model.eval()\n",
    "dataloader_iter = iter(dataloaders['pred'])\n",
    "inputs, labels = next(dataloader_iter)\n",
    "inputs = inputs.cuda()\n",
    "# make predictions an plot the results\n",
    "fig = plot_classes_preds(model,inputs,labels,class_names) \n",
    "plt.plot()"
   ]
  }
 ],
 "metadata": {
  "environment": {
   "name": "common-cu101.m59",
   "type": "gcloud",
   "uri": "gcr.io/deeplearning-platform-release/base-cu101:m59"
  },
  "kernelspec": {
   "display_name": "Python 3",
   "language": "python",
   "name": "python3"
  },
  "language_info": {
   "codemirror_mode": {
    "name": "ipython",
    "version": 3
   },
   "file_extension": ".py",
   "mimetype": "text/x-python",
   "name": "python",
   "nbconvert_exporter": "python",
   "pygments_lexer": "ipython3",
   "version": "3.7.8"
  }
 },
 "nbformat": 4,
 "nbformat_minor": 4
}
