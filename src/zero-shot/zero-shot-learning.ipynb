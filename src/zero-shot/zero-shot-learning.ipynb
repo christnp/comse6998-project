{
 "cells": [
  {
   "cell_type": "markdown",
   "metadata": {},
   "source": [
    "# Zero-Shot Learning (ZSL) Training and Prediction Results"
   ]
  },
  {
   "cell_type": "code",
   "execution_count": 1,
   "metadata": {},
   "outputs": [
    {
     "name": "stdout",
     "output_type": "stream",
     "text": [
      "Python Version:      3.7.8\n",
      "PyTorch Version:     1.7.1+cu101\n",
      "Torchvision Version: 0.8.2+cu101\n",
      "CUDA Version:        10.1\n",
      "\n",
      "***********************************\n",
      "GPU Available:  True\n",
      "Current Device: cuda:0 (Tesla T4)\n",
      "***********************************\n",
      "\n"
     ]
    }
   ],
   "source": [
    "from __future__ import print_function, division\n",
    "\n",
    "import sys\n",
    "import platform\n",
    "import time\n",
    "import os\n",
    "import copy\n",
    "import numpy as np\n",
    "import pandas as pd\n",
    "import matplotlib.pyplot as plt\n",
    "import json\n",
    "from pprint import pprint\n",
    "\n",
    "import torch\n",
    "import torch.nn as nn\n",
    "import torch.optim as optim\n",
    "from torch.optim import lr_scheduler\n",
    "import torch.backends.cudnn as cudnn\n",
    "import torchvision\n",
    "from torchvision import datasets, models, transforms\n",
    "\n",
    "# this is necessary to use the common functions\n",
    "# assumes directory structure was maintained\n",
    "sys.path.insert(0, '../common/')\n",
    "# from common.torch_utils import train_model,get_device\n",
    "# from torch_utils import (train_model, \n",
    "#                          mnist_dataloader, \n",
    "#                          dataset_preview)\n",
    "from torch_utils import *\n",
    "\n",
    "# print some versions\n",
    "print(f'Python Version:      {platform.python_version()}')\n",
    "print(f'PyTorch Version:     {torch.__version__}')\n",
    "print(f'Torchvision Version: {torchvision.__version__}')\n",
    "print(f'CUDA Version:        {torch.version.cuda}')\n",
    "\n",
    "# get device (defaults to GPU if available)\n",
    "device = get_device()"
   ]
  },
  {
   "cell_type": "markdown",
   "metadata": {},
   "source": [
    "## Data Preprocessing\n",
    "We need to collect the MNIST data and create the dataloaders for PyTorch. To make a clean notebook, we have created a helper function to do most of the work (refer to `/src/common/torch_utils.py`). For training we will use a batch_size of 32 images, similar to the base model. To demonstrate the capabilities of ZSL on limited datasets, we must take a two step approach:\n",
    "1. Training ZSL using the same baseline process (i.e., on the entire MNIST dataset)\n",
    "2. Training ZSL using a small subset of the MNIST dataset (we will try a few sizes)\n",
    "\n",
    "We can then we will have a matrix of comparisons:  \n",
    "\n",
    "||||\n",
    "|-|-|-|\n",
    "||ZSL+|Baseline+|\n",
    "|ZSL-|||\n",
    "|Baseline-|||"
   ]
  },
  {
   "cell_type": "markdown",
   "metadata": {},
   "source": [
    "Before we dive into the MNIST dataset, let's experiment using the data from [1].\n",
    "\n",
    "$$\n",
    "@inproceedings{li2019rethinking,\n",
    "  title={Rethinking Zero-Shot Learning: A Conditional Visual Classification Perspective},\n",
    "  author={Li, Kai and Min, Martin Renqiang and Fu, Yun},\n",
    "  booktitle={Proceedings of the IEEE International Conference on Computer Vision},\n",
    "  pages={3583--3592},\n",
    "  year={2019}\n",
    "}\n"
   ]
  },
  {
   "cell_type": "code",
   "execution_count": 2,
   "metadata": {},
   "outputs": [
    {
     "name": "stdout",
     "output_type": "stream",
     "text": [
      "Nothing to unzip, '../../data/zsl-example/data.zip' does not exist!\n"
     ]
    }
   ],
   "source": [
    "# get the example data\n",
    "zsl_data_dir = '../../data/zsl-example'\n",
    "zsl_example_data = 'http://www.robots.ox.ac.uk/~lz/DEM_cvpr2017/data.zip'\n",
    "if not os.path.isdir(zsl_data_dir):\n",
    "    os.mkdir(zsl_data_dir)\n",
    "# download data and clone project\n",
    "# ! wget $zsl_example_data -P $zsl_data_dir \n",
    "# ! git clone https://github.com/kailigo/cvcZSL.git\n",
    "\n",
    "zsl_data_zip = os.path.join(zsl_data_dir,os.path.basename(zsl_example_data))\n",
    "if os.path.isfile(zsl_data_zip):\n",
    "    import zipfile\n",
    "    with zipfile.ZipFile(zsl_data_zip,\"r\") as zip_ref:\n",
    "        zip_ref.extractall(zsl_data_dir)\n",
    "    # cleanup, we don't need the zip now\n",
    "\n",
    "    os.remove(zsl_data_zip)\n",
    "    if not os.path.isfile(zsl_data_zip):\n",
    "        print('Clean-up complete!')\n",
    "else:\n",
    "    print(f'Nothing to unzip, \\'{zsl_data_zip}\\' does not exist!')\n",
    "\n",
    "\n",
    "\n",
    "tmp = os.path.splitext(os.path.basename(zsl_example_data))[0]\n",
    "zsl_data_dir = os.path.join(zsl_data_dir,tmp)\n",
    "if not os.path.isdir(zsl_data_dir):\n",
    "    print('ERROR: ZSL example data dir does not exist, \\'{zsl_data_dir}\\'')"
   ]
  },
  {
   "cell_type": "code",
   "execution_count": 4,
   "metadata": {},
   "outputs": [
    {
     "name": "stdout",
     "output_type": "stream",
     "text": [
      "Namespace(dataset='../../data/zsl-example/data/AwA1_data', gamma=0.5, hidden_dim=1600, log_file='logs/eps_lr5_opt4_ss500_w16_s4', log_to_file=True, lr=1e-05, model_file='models/lr5_opt4_ss500_w16_s4.pt', nthreads=8, num_epochs=10, opt_decay=0.0001, shots=4, step_size=500, ways=16, weight_model='weightnet')\n",
      "/opt/conda/lib/python3.7/site-packages/torch/optim/lr_scheduler.py:136: UserWarning: Detected call of `lr_scheduler.step()` before `optimizer.step()`. In PyTorch 1.1.0 and later, you should call them in the opposite order: `optimizer.step()` before `lr_scheduler.step()`.  Failure to do this will result in PyTorch skipping the first value of the learning rate schedule. See more details at https://pytorch.org/docs/stable/optim.html#how-to-adjust-learning-rate\n",
      "  \"https://pytorch.org/docs/stable/optim.html#how-to-adjust-learning-rate\", UserWarning)\n",
      "cvcZSL/train.py:84: UserWarning: This overload of baddbmm is deprecated:\n",
      "\tbaddbmm(Number beta, Tensor input, Number alpha, Tensor batch1, Tensor batch2, *, Tensor out)\n",
      "Consider using one of the following signatures instead:\n",
      "\tbaddbmm(Tensor input, Tensor batch1, Tensor batch2, *, Number beta, Number alpha, Tensor out) (Triggered internally at  /pytorch/torch/csrc/utils/python_arg_parser.cpp:882.)\n",
      "  cls_scores = scale_cls * torch.baddbmm(1.0, bias.view(1, 1, 1), 1.0, features, cls_weights.transpose(1,2))\n",
      "ep: 0,  lr: 0.000010, loss: 1.2317,  zsl: 0.5378, gzsl: seen=0.8436, unseen=0.0373, h=0.0714\n",
      "ep: 1,  lr: 0.000010, loss: 0.8633,  zsl: 0.5535, gzsl: seen=0.8517, unseen=0.0373, h=0.0716\n",
      "ep: 2,  lr: 0.000010, loss: 0.8494,  zsl: 0.5631, gzsl: seen=0.8529, unseen=0.0507, h=0.0957\n",
      "ep: 3,  lr: 0.000010, loss: 0.8463,  zsl: 0.5722, gzsl: seen=0.8524, unseen=0.0520, h=0.0980\n",
      "ep: 4,  lr: 0.000010, loss: 0.8342,  zsl: 0.5739, gzsl: seen=0.8506, unseen=0.0725, h=0.1336\n",
      "ep: 5,  lr: 0.000010, loss: 0.8301,  zsl: 0.5758, gzsl: seen=0.8498, unseen=0.0773, h=0.1417\n",
      "ep: 6,  lr: 0.000010, loss: 0.8169,  zsl: 0.5794, gzsl: seen=0.8536, unseen=0.0802, h=0.1467\n",
      "ep: 7,  lr: 0.000010, loss: 0.8116,  zsl: 0.5896, gzsl: seen=0.8528, unseen=0.0818, h=0.1494\n",
      "ep: 8,  lr: 0.000010, loss: 0.8039,  zsl: 0.5938, gzsl: seen=0.8529, unseen=0.0944, h=0.1699\n",
      "ep: 9,  lr: 0.000010, loss: 0.7971,  zsl: 0.5939, gzsl: seen=0.8560, unseen=0.0937, h=0.1690\n",
      "best_ep: 8, zsl: 0.5938, gzsl: seen=0.8529, unseen=0.0944, h=0.1699\n",
      "zsl: 0.5938, gzsl: seen=0.8529, unseen=0.0944, h=0.1699\n"
     ]
    }
   ],
   "source": [
    "AwA1_data = os.path.join(zsl_data_dir,'AwA1_data')\n",
    "model_dir = 'models'\n",
    "log_dir = 'logs'\n",
    "if not os.path.isdir(model_dir): os.mkdir(model_dir)\n",
    "if not os.path.isdir(log_dir): os.mkdir(log_dir)\n",
    "\n",
    "# run the example training script\n",
    "! python cvcZSL/train.py --dataset $AwA1_data --ways 16 --shots 4 --lr 1e-5 \\\n",
    "--opt_decay 1e-4 --step_size 500 --num_epochs 10 \\\n",
    "--log_file $log_dir/eps_lr5_opt4_ss500_w16_s4 \\\n",
    "--model_file $model_dir/lr5_opt4_ss500_w16_s4.pt"
   ]
  },
  {
   "cell_type": "code",
   "execution_count": 13,
   "metadata": {},
   "outputs": [
    {
     "name": "stdout",
     "output_type": "stream",
     "text": [
      "../../data/zsl-example/data/AwA1_data\n",
      "Namespace(dataset='../../data/zsl-example/data/AwA1_data', gamma=0.5, hidden_dim=1600, log_file='temp.log', log_to_file=True, lr=1e-05, model_file='models/lr5_opt4_ss500_w16_s4.pt', nthreads=8, num_epochs=1000, opt_decay=0.001, shots=4, step_size=200, ways=32, weight_model='weightnet')\n",
      "Traceback (most recent call last):\n",
      "  File \"cvcZSL/test.py\", line 160, in <module>\n",
      "    model = torch.load(model_file_name)\n",
      "  File \"/opt/conda/lib/python3.7/site-packages/torch/serialization.py\", line 581, in load\n",
      "    with _open_file_like(f, 'rb') as opened_file:\n",
      "  File \"/opt/conda/lib/python3.7/site-packages/torch/serialization.py\", line 230, in _open_file_like\n",
      "    return _open_file(name_or_buffer, mode)\n",
      "  File \"/opt/conda/lib/python3.7/site-packages/torch/serialization.py\", line 211, in __init__\n",
      "    super(_open_file, self).__init__(open(name, mode))\n",
      "FileNotFoundError: [Errno 2] No such file or directory: '../../data/zsl-example/data/AwA1_data/models/lr5_opt4_ss500_w16_s4.pt'\n"
     ]
    }
   ],
   "source": [
    "print(AwA1_data)\n",
    "! python cvcZSL/test.py --dataset $AwA1_data --model_file models/lr5_opt4_ss500_w16_s4.pt"
   ]
  },
  {
   "cell_type": "code",
   "execution_count": 4,
   "metadata": {},
   "outputs": [
    {
     "name": "stdout",
     "output_type": "stream",
     "text": [
      "Data will be located in '../../data'\n",
      "Dataset sizes: {'train': 60000, 'val': 9900, 'pred': 100}\n",
      "Class names: ['0 - zero', '1 - one', '2 - two', '3 - three', '4 - four', '5 - five', '6 - six', '7 - seven', '8 - eight', '9 - nine']\n"
     ]
    },
    {
     "data": {
      "image/png": "[encoded data removed]",
      "text/plain": [
       "<Figure size 720x288 with 4 Axes>"
      ]
     },
     "metadata": {
      "needs_background": "light"
     },
     "output_type": "display_data"
    }
   ],
   "source": [
    "BATCH_SIZE = 32\n",
    "\n",
    "data_transforms = {\n",
    "    'train': transforms.Compose([\n",
    "        transforms.ToTensor(),\n",
    "        transforms.Normalize((0.5), (0.5))\n",
    "    ]),\n",
    "    'val': transforms.Compose([\n",
    "        transforms.ToTensor(),\n",
    "        transforms.Normalize((0.5), (0.5))\n",
    "    ]),\n",
    "}\n",
    "\n",
    "# use helper to create the dataloaders\n",
    "tmp = mnist_dataloader(data_transforms,batch_size=BATCH_SIZE,pred_size=0.01)\n",
    "dataloaders, dataset_sizes, class_names = tmp \n",
    "print(f\"Dataset sizes: {dataset_sizes}\")\n",
    "print(f\"Class names: {class_names}\")\n",
    "\n",
    "# preview the dataset\n",
    "dataset_preview(dataloaders['val'])"
   ]
  },
  {
   "cell_type": "code",
   "execution_count": null,
   "metadata": {},
   "outputs": [],
   "source": []
  }
 ],
 "metadata": {
  "environment": {
   "name": "common-cu101.m59",
   "type": "gcloud",
   "uri": "gcr.io/deeplearning-platform-release/base-cu101:m59"
  },
  "kernelspec": {
   "display_name": "Python 3",
   "language": "python",
   "name": "python3"
  },
  "language_info": {
   "codemirror_mode": {
    "name": "ipython",
    "version": 3
   },
   "file_extension": ".py",
   "mimetype": "text/x-python",
   "name": "python",
   "nbconvert_exporter": "python",
   "pygments_lexer": "ipython3",
   "version": "3.7.8"
  }
 },
 "nbformat": 4,
 "nbformat_minor": 4
}
